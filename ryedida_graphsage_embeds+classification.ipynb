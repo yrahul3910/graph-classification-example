{
 "cells": [
  {
   "cell_type": "code",
   "execution_count": 39,
   "metadata": {
    "executionInfo": {
     "elapsed": 4,
     "status": "aborted",
     "timestamp": 1707411701304,
     "user": {
      "displayName": "Sanjana Cheerla",
      "userId": "01165695743008657535"
     },
     "user_tz": 300
    },
    "id": "HI-myC-xANI3"
   },
   "outputs": [
    {
     "name": "stdout",
     "output_type": "stream",
     "text": [
      "Requirement already satisfied: torch in /opt/conda/lib/python3.10/site-packages (2.0.1+cu118)\n",
      "Requirement already satisfied: torch_sparse in /opt/conda/lib/python3.10/site-packages (0.6.18)\n",
      "Requirement already satisfied: pyglib in /opt/conda/lib/python3.10/site-packages (0.1)\n",
      "Requirement already satisfied: torch_geometric in /opt/conda/lib/python3.10/site-packages (2.4.0)\n",
      "Requirement already satisfied: torch_scatter in /opt/conda/lib/python3.10/site-packages (2.1.2)\n",
      "Requirement already satisfied: lightning in /opt/conda/lib/python3.10/site-packages (2.2.0)\n",
      "Requirement already satisfied: imblearn in /opt/conda/lib/python3.10/site-packages (0.0)\n",
      "Requirement already satisfied: filelock in /opt/conda/lib/python3.10/site-packages (from torch) (3.13.1)\n",
      "Requirement already satisfied: typing-extensions in /opt/conda/lib/python3.10/site-packages (from torch) (4.5.0)\n",
      "Requirement already satisfied: sympy in /opt/conda/lib/python3.10/site-packages (from torch) (1.12)\n",
      "Requirement already satisfied: networkx in /opt/conda/lib/python3.10/site-packages (from torch) (3.2.1)\n",
      "Requirement already satisfied: jinja2 in /opt/conda/lib/python3.10/site-packages (from torch) (3.1.2)\n",
      "Requirement already satisfied: triton==2.0.0 in /opt/conda/lib/python3.10/site-packages (from torch) (2.0.0)\n",
      "Requirement already satisfied: cmake in /opt/conda/lib/python3.10/site-packages (from triton==2.0.0->torch) (3.28.1)\n",
      "Requirement already satisfied: lit in /opt/conda/lib/python3.10/site-packages (from triton==2.0.0->torch) (17.0.6)\n",
      "Requirement already satisfied: scipy in /opt/conda/lib/python3.10/site-packages (from torch_sparse) (1.10.1)\n",
      "Requirement already satisfied: python-gflags in /opt/conda/lib/python3.10/site-packages (from pyglib) (3.1.2)\n",
      "Requirement already satisfied: glog in /opt/conda/lib/python3.10/site-packages (from pyglib) (0.3.1)\n",
      "Requirement already satisfied: tqdm in /opt/conda/lib/python3.10/site-packages (from torch_geometric) (4.66.1)\n",
      "Requirement already satisfied: numpy in /opt/conda/lib/python3.10/site-packages (from torch_geometric) (1.26.3)\n",
      "Requirement already satisfied: requests in /opt/conda/lib/python3.10/site-packages (from torch_geometric) (2.31.0)\n",
      "Requirement already satisfied: pyparsing in /opt/conda/lib/python3.10/site-packages (from torch_geometric) (3.1.1)\n",
      "Requirement already satisfied: scikit-learn in /opt/conda/lib/python3.10/site-packages (from torch_geometric) (1.2.1)\n",
      "Requirement already satisfied: psutil>=5.8.0 in /opt/conda/lib/python3.10/site-packages (from torch_geometric) (5.9.3)\n",
      "Requirement already satisfied: PyYAML<8.0,>=5.4 in /opt/conda/lib/python3.10/site-packages (from lightning) (6.0.1)\n",
      "Requirement already satisfied: fsspec<2025.0,>=2022.5.0 in /opt/conda/lib/python3.10/site-packages (from fsspec[http]<2025.0,>=2022.5.0->lightning) (2023.10.0)\n",
      "Requirement already satisfied: lightning-utilities<2.0,>=0.8.0 in /opt/conda/lib/python3.10/site-packages (from lightning) (0.10.0)\n",
      "Requirement already satisfied: packaging<25.0,>=20.0 in /opt/conda/lib/python3.10/site-packages (from lightning) (23.2)\n",
      "Requirement already satisfied: torchmetrics<3.0,>=0.7.0 in /opt/conda/lib/python3.10/site-packages (from lightning) (1.2.1)\n",
      "Requirement already satisfied: pytorch-lightning in /opt/conda/lib/python3.10/site-packages (from lightning) (1.9.4)\n",
      "Requirement already satisfied: imbalanced-learn in /opt/conda/lib/python3.10/site-packages (from imblearn) (0.11.0)\n",
      "Requirement already satisfied: aiohttp!=4.0.0a0,!=4.0.0a1 in /opt/conda/lib/python3.10/site-packages (from fsspec[http]<2025.0,>=2022.5.0->lightning) (3.8.6)\n",
      "Requirement already satisfied: setuptools in /opt/conda/lib/python3.10/site-packages (from lightning-utilities<2.0,>=0.8.0->lightning) (68.2.2)\n",
      "Requirement already satisfied: six in /opt/conda/lib/python3.10/site-packages (from glog->pyglib) (1.16.0)\n",
      "Requirement already satisfied: joblib>=1.1.1 in /opt/conda/lib/python3.10/site-packages (from imbalanced-learn->imblearn) (1.3.2)\n",
      "Requirement already satisfied: threadpoolctl>=2.0.0 in /opt/conda/lib/python3.10/site-packages (from imbalanced-learn->imblearn) (3.2.0)\n",
      "Requirement already satisfied: MarkupSafe>=2.0 in /opt/conda/lib/python3.10/site-packages (from jinja2->torch) (2.0.1)\n",
      "Requirement already satisfied: charset-normalizer<4,>=2 in /opt/conda/lib/python3.10/site-packages (from requests->torch_geometric) (3.3.2)\n",
      "Requirement already satisfied: idna<4,>=2.5 in /opt/conda/lib/python3.10/site-packages (from requests->torch_geometric) (3.4)\n",
      "Requirement already satisfied: urllib3<3,>=1.21.1 in /opt/conda/lib/python3.10/site-packages (from requests->torch_geometric) (1.26.18)\n",
      "Requirement already satisfied: certifi>=2017.4.17 in /opt/conda/lib/python3.10/site-packages (from requests->torch_geometric) (2023.7.22)\n",
      "Requirement already satisfied: mpmath>=0.19 in /opt/conda/lib/python3.10/site-packages (from sympy->torch) (1.3.0)\n",
      "Requirement already satisfied: attrs>=17.3.0 in /opt/conda/lib/python3.10/site-packages (from aiohttp!=4.0.0a0,!=4.0.0a1->fsspec[http]<2025.0,>=2022.5.0->lightning) (23.1.0)\n",
      "Requirement already satisfied: multidict<7.0,>=4.5 in /opt/conda/lib/python3.10/site-packages (from aiohttp!=4.0.0a0,!=4.0.0a1->fsspec[http]<2025.0,>=2022.5.0->lightning) (6.0.4)\n",
      "Requirement already satisfied: async-timeout<5.0,>=4.0.0a3 in /opt/conda/lib/python3.10/site-packages (from aiohttp!=4.0.0a0,!=4.0.0a1->fsspec[http]<2025.0,>=2022.5.0->lightning) (4.0.3)\n",
      "Requirement already satisfied: yarl<2.0,>=1.0 in /opt/conda/lib/python3.10/site-packages (from aiohttp!=4.0.0a0,!=4.0.0a1->fsspec[http]<2025.0,>=2022.5.0->lightning) (1.9.2)\n",
      "Requirement already satisfied: frozenlist>=1.1.1 in /opt/conda/lib/python3.10/site-packages (from aiohttp!=4.0.0a0,!=4.0.0a1->fsspec[http]<2025.0,>=2022.5.0->lightning) (1.4.0)\n",
      "Requirement already satisfied: aiosignal>=1.1.2 in /opt/conda/lib/python3.10/site-packages (from aiohttp!=4.0.0a0,!=4.0.0a1->fsspec[http]<2025.0,>=2022.5.0->lightning) (1.3.1)\n",
      "Note: you may need to restart the kernel to use updated packages.\n"
     ]
    }
   ],
   "source": [
    "%pip install torch torch_sparse pyglib torch_geometric torch_scatter imblearn --prefer-binary"
   ]
  },
  {
   "cell_type": "code",
   "execution_count": 5,
   "metadata": {},
   "outputs": [
    {
     "name": "stdout",
     "output_type": "stream",
     "text": [
      "Found existing installation: keras 2.13.1\n",
      "Uninstalling keras-2.13.1:\n",
      "  Successfully uninstalled keras-2.13.1\n",
      "\u001b[31mERROR: pip's dependency resolver does not currently take into account all the packages that are installed. This behaviour is the source of the following dependency conflicts.\n",
      "tensorflow 2.13.0 requires keras<2.14,>=2.13.1, but you have keras 3.0.4 which is incompatible.\n",
      "tensorflow 2.13.0 requires numpy<=1.24.3,>=1.22, but you have numpy 1.26.3 which is incompatible.\u001b[0m\u001b[31m\n",
      "\u001b[0m"
     ]
    }
   ],
   "source": [
    "!pip3 uninstall -y keras && pip3 install keras>=3.0.0"
   ]
  },
  {
   "cell_type": "code",
   "execution_count": 29,
   "metadata": {
    "id": "462n8GXTTvNH"
   },
   "outputs": [],
   "source": [
    "import random\n",
    "import pickle\n",
    "import os\n",
    "\n",
    "import pandas as pd\n",
    "import numpy as np\n",
    "import networkx as nx\n",
    "from tqdm.notebook import tqdm\n",
    "from imblearn.over_sampling import SMOTE\n",
    "from sklearn.model_selection import train_test_split\n",
    "from matplotlib import pyplot as plt\n",
    "\n",
    "import keras\n",
    "from keras.models import Sequential\n",
    "from keras.layers import Dense\n",
    "from keras.utils import to_categorical\n",
    "from keras.optimizers import Adam as KAdam\n",
    "\n",
    "import torch\n",
    "import torch_sparse\n",
    "from torch_geometric.nn import GraphSAGE\n",
    "from torch_geometric.data import Data\n",
    "from torch_geometric.loader import DataLoader, LinkNeighborLoader\n",
    "from torch.optim import Adam\n",
    "import torch.nn.functional as F"
   ]
  },
  {
   "cell_type": "code",
   "execution_count": 2,
   "metadata": {},
   "outputs": [
    {
     "data": {
      "text/plain": [
       "'3.0.4'"
      ]
     },
     "execution_count": 2,
     "metadata": {},
     "output_type": "execute_result"
    }
   ],
   "source": [
    "keras.__version__"
   ]
  },
  {
   "cell_type": "code",
   "execution_count": 3,
   "metadata": {
    "colab": {
     "base_uri": "https://localhost:8080/",
     "height": 724
    },
    "executionInfo": {
     "elapsed": 1186,
     "status": "ok",
     "timestamp": 1707422336775,
     "user": {
      "displayName": "Sanjana Cheerla",
      "userId": "01165695743008657535"
     },
     "user_tz": 300
    },
    "id": "XCJD941uUEI0",
    "outputId": "fd5a4e1d-98b6-4bf6-abf6-887e0e6b051a"
   },
   "outputs": [
    {
     "name": "stdout",
     "output_type": "stream",
     "text": [
      "96338\n"
     ]
    },
    {
     "data": {
      "text/html": [
       "<div>\n",
       "<style scoped>\n",
       "    .dataframe tbody tr th:only-of-type {\n",
       "        vertical-align: middle;\n",
       "    }\n",
       "\n",
       "    .dataframe tbody tr th {\n",
       "        vertical-align: top;\n",
       "    }\n",
       "\n",
       "    .dataframe thead th {\n",
       "        text-align: right;\n",
       "    }\n",
       "</style>\n",
       "<table border=\"1\" class=\"dataframe\">\n",
       "  <thead>\n",
       "    <tr style=\"text-align: right;\">\n",
       "      <th></th>\n",
       "      <th>Unnamed: 0</th>\n",
       "      <th># ChemicalName</th>\n",
       "      <th>ChemicalID</th>\n",
       "      <th>CasRN</th>\n",
       "      <th>GeneSymbol</th>\n",
       "      <th>GeneID</th>\n",
       "      <th>GeneForms</th>\n",
       "      <th>Organism</th>\n",
       "      <th>OrganismID</th>\n",
       "      <th>Interaction</th>\n",
       "      <th>...</th>\n",
       "      <th>increases^expression</th>\n",
       "      <th>increases^glucuronidation</th>\n",
       "      <th>increases^metabolic processing</th>\n",
       "      <th>increases^methylation</th>\n",
       "      <th>increases^mutagenesis</th>\n",
       "      <th>increases^oxidation</th>\n",
       "      <th>increases^phosphorylation</th>\n",
       "      <th>increases^reduction</th>\n",
       "      <th>increases^response to substance</th>\n",
       "      <th>increases^secretion</th>\n",
       "    </tr>\n",
       "  </thead>\n",
       "  <tbody>\n",
       "    <tr>\n",
       "      <th>0</th>\n",
       "      <td>0</td>\n",
       "      <td>10074-G5</td>\n",
       "      <td>C534883</td>\n",
       "      <td>NaN</td>\n",
       "      <td>AR</td>\n",
       "      <td>367.0</td>\n",
       "      <td>protein</td>\n",
       "      <td>Homo sapiens</td>\n",
       "      <td>9606.0</td>\n",
       "      <td>10074-G5 results in decreased expression of AR...</td>\n",
       "      <td>...</td>\n",
       "      <td>0</td>\n",
       "      <td>0</td>\n",
       "      <td>0</td>\n",
       "      <td>0</td>\n",
       "      <td>0</td>\n",
       "      <td>0</td>\n",
       "      <td>0</td>\n",
       "      <td>0</td>\n",
       "      <td>0</td>\n",
       "      <td>0</td>\n",
       "    </tr>\n",
       "    <tr>\n",
       "      <th>1</th>\n",
       "      <td>2</td>\n",
       "      <td>10074-G5</td>\n",
       "      <td>C534883</td>\n",
       "      <td>NaN</td>\n",
       "      <td>MYC</td>\n",
       "      <td>4609.0</td>\n",
       "      <td>protein</td>\n",
       "      <td>Homo sapiens</td>\n",
       "      <td>9606.0</td>\n",
       "      <td>10074-G5 analog results in decreased expressio...</td>\n",
       "      <td>...</td>\n",
       "      <td>0</td>\n",
       "      <td>0</td>\n",
       "      <td>0</td>\n",
       "      <td>0</td>\n",
       "      <td>0</td>\n",
       "      <td>0</td>\n",
       "      <td>0</td>\n",
       "      <td>0</td>\n",
       "      <td>0</td>\n",
       "      <td>0</td>\n",
       "    </tr>\n",
       "    <tr>\n",
       "      <th>2</th>\n",
       "      <td>5</td>\n",
       "      <td>10,10-bis(4-pyridinylmethyl)-9(10H)-anthracenone</td>\n",
       "      <td>C112297</td>\n",
       "      <td>NaN</td>\n",
       "      <td>KCNQ1</td>\n",
       "      <td>3784.0</td>\n",
       "      <td>protein</td>\n",
       "      <td>NaN</td>\n",
       "      <td>NaN</td>\n",
       "      <td>10,10-bis(4-pyridinylmethyl)-9(10H)-anthraceno...</td>\n",
       "      <td>...</td>\n",
       "      <td>0</td>\n",
       "      <td>0</td>\n",
       "      <td>0</td>\n",
       "      <td>0</td>\n",
       "      <td>0</td>\n",
       "      <td>0</td>\n",
       "      <td>0</td>\n",
       "      <td>0</td>\n",
       "      <td>0</td>\n",
       "      <td>0</td>\n",
       "    </tr>\n",
       "    <tr>\n",
       "      <th>3</th>\n",
       "      <td>6</td>\n",
       "      <td>10,10-bis(4-pyridinylmethyl)-9(10H)-anthracenone</td>\n",
       "      <td>C112297</td>\n",
       "      <td>NaN</td>\n",
       "      <td>KCNQ2</td>\n",
       "      <td>3785.0</td>\n",
       "      <td>protein</td>\n",
       "      <td>Homo sapiens</td>\n",
       "      <td>9606.0</td>\n",
       "      <td>10,10-bis(4-pyridinylmethyl)-9(10H)-anthraceno...</td>\n",
       "      <td>...</td>\n",
       "      <td>0</td>\n",
       "      <td>0</td>\n",
       "      <td>0</td>\n",
       "      <td>0</td>\n",
       "      <td>0</td>\n",
       "      <td>0</td>\n",
       "      <td>0</td>\n",
       "      <td>0</td>\n",
       "      <td>0</td>\n",
       "      <td>0</td>\n",
       "    </tr>\n",
       "    <tr>\n",
       "      <th>4</th>\n",
       "      <td>8</td>\n",
       "      <td>10,11-dihydro-10-hydroxycarbamazepine</td>\n",
       "      <td>C039775</td>\n",
       "      <td>NaN</td>\n",
       "      <td>CYP2C19</td>\n",
       "      <td>1557.0</td>\n",
       "      <td>protein</td>\n",
       "      <td>NaN</td>\n",
       "      <td>NaN</td>\n",
       "      <td>10,11-dihydro-10-hydroxycarbamazepine results ...</td>\n",
       "      <td>...</td>\n",
       "      <td>0</td>\n",
       "      <td>0</td>\n",
       "      <td>0</td>\n",
       "      <td>0</td>\n",
       "      <td>0</td>\n",
       "      <td>0</td>\n",
       "      <td>0</td>\n",
       "      <td>0</td>\n",
       "      <td>0</td>\n",
       "      <td>0</td>\n",
       "    </tr>\n",
       "  </tbody>\n",
       "</table>\n",
       "<p>5 rows × 39 columns</p>\n",
       "</div>"
      ],
      "text/plain": [
       "   Unnamed: 0                                    # ChemicalName ChemicalID  \\\n",
       "0           0                                          10074-G5    C534883   \n",
       "1           2                                          10074-G5    C534883   \n",
       "2           5  10,10-bis(4-pyridinylmethyl)-9(10H)-anthracenone    C112297   \n",
       "3           6  10,10-bis(4-pyridinylmethyl)-9(10H)-anthracenone    C112297   \n",
       "4           8             10,11-dihydro-10-hydroxycarbamazepine    C039775   \n",
       "\n",
       "  CasRN GeneSymbol  GeneID GeneForms      Organism  OrganismID  \\\n",
       "0   NaN         AR   367.0   protein  Homo sapiens      9606.0   \n",
       "1   NaN        MYC  4609.0   protein  Homo sapiens      9606.0   \n",
       "2   NaN      KCNQ1  3784.0   protein           NaN         NaN   \n",
       "3   NaN      KCNQ2  3785.0   protein  Homo sapiens      9606.0   \n",
       "4   NaN    CYP2C19  1557.0   protein           NaN         NaN   \n",
       "\n",
       "                                         Interaction  ...  \\\n",
       "0  10074-G5 results in decreased expression of AR...  ...   \n",
       "1  10074-G5 analog results in decreased expressio...  ...   \n",
       "2  10,10-bis(4-pyridinylmethyl)-9(10H)-anthraceno...  ...   \n",
       "3  10,10-bis(4-pyridinylmethyl)-9(10H)-anthraceno...  ...   \n",
       "4  10,11-dihydro-10-hydroxycarbamazepine results ...  ...   \n",
       "\n",
       "  increases^expression increases^glucuronidation  \\\n",
       "0                    0                         0   \n",
       "1                    0                         0   \n",
       "2                    0                         0   \n",
       "3                    0                         0   \n",
       "4                    0                         0   \n",
       "\n",
       "  increases^metabolic processing  increases^methylation  \\\n",
       "0                              0                      0   \n",
       "1                              0                      0   \n",
       "2                              0                      0   \n",
       "3                              0                      0   \n",
       "4                              0                      0   \n",
       "\n",
       "   increases^mutagenesis  increases^oxidation  increases^phosphorylation  \\\n",
       "0                      0                    0                          0   \n",
       "1                      0                    0                          0   \n",
       "2                      0                    0                          0   \n",
       "3                      0                    0                          0   \n",
       "4                      0                    0                          0   \n",
       "\n",
       "   increases^reduction  increases^response to substance  increases^secretion  \n",
       "0                    0                                0                    0  \n",
       "1                    0                                0                    0  \n",
       "2                    0                                0                    0  \n",
       "3                    0                                0                    0  \n",
       "4                    0                                0                    0  \n",
       "\n",
       "[5 rows x 39 columns]"
      ]
     },
     "execution_count": 3,
     "metadata": {},
     "output_type": "execute_result"
    }
   ],
   "source": [
    "df = pd.read_csv(\"chem_gene_onehotencoded.csv\")\n",
    "print(len(df))\n",
    "df.head()"
   ]
  },
  {
   "cell_type": "code",
   "execution_count": 4,
   "metadata": {},
   "outputs": [
    {
     "data": {
      "text/plain": [
       "Index(['Unnamed: 0', '# ChemicalName', 'ChemicalID', 'CasRN', 'GeneSymbol',\n",
       "       'GeneID', 'GeneForms', 'Organism', 'OrganismID', 'Interaction',\n",
       "       'InteractionActions', 'PubMedIDs', 'IA_list',\n",
       "       'InteractionActionsEncoded', 'affects^activity', 'affects^binding',\n",
       "       'affects^expression', 'affects^localization',\n",
       "       'affects^metabolic processing', 'affects^response to substance',\n",
       "       'decreases^activity', 'decreases^expression',\n",
       "       'decreases^phosphorylation', 'decreases^response to substance',\n",
       "       'increases^ADP-ribosylation', 'increases^abundance',\n",
       "       'increases^activity', 'increases^chemical synthesis',\n",
       "       'increases^cleavage', 'increases^expression',\n",
       "       'increases^glucuronidation', 'increases^metabolic processing',\n",
       "       'increases^methylation', 'increases^mutagenesis', 'increases^oxidation',\n",
       "       'increases^phosphorylation', 'increases^reduction',\n",
       "       'increases^response to substance', 'increases^secretion'],\n",
       "      dtype='object')"
      ]
     },
     "execution_count": 4,
     "metadata": {},
     "output_type": "execute_result"
    }
   ],
   "source": [
    "df.columns"
   ]
  },
  {
   "cell_type": "code",
   "execution_count": 5,
   "metadata": {
    "colab": {
     "base_uri": "https://localhost:8080/"
    },
    "executionInfo": {
     "elapsed": 114,
     "status": "ok",
     "timestamp": 1707422377619,
     "user": {
      "displayName": "Sanjana Cheerla",
      "userId": "01165695743008657535"
     },
     "user_tz": 300
    },
    "id": "Ju0lGrI4TFYD",
    "outputId": "f20f206e-acfe-4bb6-d27d-7aaf493b8bbf"
   },
   "outputs": [
    {
     "data": {
      "text/plain": [
       "InteractionActions\n",
       "increases^expression               39634\n",
       "decreases^expression               38118\n",
       "affects^expression                  9517\n",
       "decreases^activity                  1806\n",
       "increases^activity                  1410\n",
       "affects^binding                     1304\n",
       "increases^phosphorylation            649\n",
       "decreases^phosphorylation            473\n",
       "increases^metabolic processing       354\n",
       "affects^response to substance        296\n",
       "increases^cleavage                   266\n",
       "increases^ADP-ribosylation           266\n",
       "affects^localization                 235\n",
       "increases^glucuronidation            220\n",
       "increases^chemical synthesis         200\n",
       "increases^response to substance      200\n",
       "decreases^response to substance      200\n",
       "affects^metabolic processing         195\n",
       "increases^secretion                  189\n",
       "increases^oxidation                  169\n",
       "increases^abundance                  144\n",
       "increases^methylation                141\n",
       "affects^activity                     137\n",
       "increases^reduction                  111\n",
       "increases^mutagenesis                104\n",
       "Name: count, dtype: int64"
      ]
     },
     "execution_count": 5,
     "metadata": {},
     "output_type": "execute_result"
    }
   ],
   "source": [
    "unique_values_counts = df[\"InteractionActions\"].value_counts()\n",
    "unique_values_counts"
   ]
  },
  {
   "cell_type": "code",
   "execution_count": 6,
   "metadata": {
    "id": "cprwpQYBUQTe"
   },
   "outputs": [],
   "source": [
    "graph_file_path = \"graph.gexf\"\n",
    "G = nx.read_gexf(graph_file_path)"
   ]
  },
  {
   "cell_type": "code",
   "execution_count": 7,
   "metadata": {
    "colab": {
     "base_uri": "https://localhost:8080/"
    },
    "executionInfo": {
     "elapsed": 27,
     "status": "ok",
     "timestamp": 1707152982872,
     "user": {
      "displayName": "Sanjana Cheerla",
      "userId": "01165695743008657535"
     },
     "user_tz": 300
    },
    "id": "QL7Fqfts1iKn",
    "outputId": "3d815a92-8a0c-43c5-cd9d-76b8a50c395d"
   },
   "outputs": [
    {
     "name": "stdout",
     "output_type": "stream",
     "text": [
      "[('C534883', '367.0'), ('C534883', '4609.0'), ('C112297', '3784.0'), ('C112297', '3785.0'), ('C039775', '1557.0')]\n"
     ]
    }
   ],
   "source": [
    "print(list(G.edges())[:5])"
   ]
  },
  {
   "cell_type": "code",
   "execution_count": 8,
   "metadata": {
    "id": "tFihn4fdWkhq"
   },
   "outputs": [],
   "source": [
    "node_mapping = {node: idx for idx, node in enumerate(G.nodes())}\n",
    "G = nx.relabel_nodes(G, node_mapping)\n",
    "\n",
    "edge_index = torch.tensor(list(G.edges)).t().contiguous()[:-1]\n",
    "x = torch.eye(G.number_of_nodes())"
   ]
  },
  {
   "cell_type": "code",
   "execution_count": 9,
   "metadata": {
    "colab": {
     "base_uri": "https://localhost:8080/"
    },
    "executionInfo": {
     "elapsed": 191,
     "status": "ok",
     "timestamp": 1707152983245,
     "user": {
      "displayName": "Sanjana Cheerla",
      "userId": "01165695743008657535"
     },
     "user_tz": 300
    },
    "id": "IXbqtFsZcX84",
    "outputId": "e4ff67b8-b4d1-4ec8-baec-ebe9b3493300"
   },
   "outputs": [
    {
     "name": "stdout",
     "output_type": "stream",
     "text": [
      "[0, 1, 2, 3, 4]\n",
      "[('C534883', 0), ('367.0', 1), ('4609.0', 2), ('C112297', 3), ('3784.0', 4)]\n"
     ]
    }
   ],
   "source": [
    "print(list(G.nodes)[:5])\n",
    "print(list(node_mapping.items())[:5])"
   ]
  },
  {
   "cell_type": "code",
   "execution_count": 10,
   "metadata": {},
   "outputs": [
    {
     "data": {
      "text/plain": [
       "(96338, 23189)"
      ]
     },
     "execution_count": 10,
     "metadata": {},
     "output_type": "execute_result"
    }
   ],
   "source": [
    "G.number_of_edges(), G.number_of_nodes()"
   ]
  },
  {
   "cell_type": "markdown",
   "metadata": {},
   "source": [
    "## If you have embeddings pickled, skip this section."
   ]
  },
  {
   "cell_type": "code",
   "execution_count": null,
   "metadata": {
    "id": "0VgVsHeaYQwR"
   },
   "outputs": [],
   "source": [
    "data = Data(x=x, edge_index=edge_index)\n",
    "torch.save(data, 'sage_embeddings_mainmapdata_object.pt')\n",
    "\n",
    "data.train_mask = torch.randperm(G.number_of_nodes()) < 0.8\n",
    "data.test_mask = ~data.train_mask\n",
    "\n",
    "device = torch.device('cuda' if torch.cuda.is_available() else 'cpu')\n",
    "data = data.to(device)\n",
    "data.x = data.x.to(device)\n",
    "data.train_mask = data.train_mask.to(device)\n",
    "data.test_mask = data.test_mask.to(device)\n",
    "data.edge_index = data.edge_index.to(device)"
   ]
  },
  {
   "cell_type": "code",
   "execution_count": 10,
   "metadata": {
    "colab": {
     "base_uri": "https://localhost:8080/"
    },
    "executionInfo": {
     "elapsed": 261,
     "status": "ok",
     "timestamp": 1707152983505,
     "user": {
      "displayName": "Sanjana Cheerla",
      "userId": "01165695743008657535"
     },
     "user_tz": 300
    },
    "id": "_-4y_mCxs4eo",
    "outputId": "e8a1fd55-ca84-4309-a0e9-20ea151961d1"
   },
   "outputs": [
    {
     "name": "stderr",
     "output_type": "stream",
     "text": [
      "W0209 08:05:47.748089 15797 warnings.py:109] /opt/conda/lib/python3.10/site-packages/torch_geometric/sampler/neighbor_sampler.py:60: UserWarning: Using 'NeighborSampler' without a 'pyg-lib' installation is deprecated and will be removed soon. Please install 'pyg-lib' for accelerated neighborhood sampling\n",
      "  warnings.warn(f\"Using '{self.__class__.__name__}' without a \"\n",
      "\n"
     ]
    }
   ],
   "source": [
    "loader = LinkNeighborLoader(data, batch_size=32, shuffle=True,\n",
    "                            neg_sampling_ratio=1.0, num_neighbors=[10, 10],\n",
    "                            num_workers=4, persistent_workers=True)\n",
    "\n",
    "model = GraphSAGE(\n",
    "    in_channels=data.num_features,\n",
    "    hidden_channels=64,\n",
    "    num_layers=4,\n",
    "    out_channels=64,\n",
    ").to(device)\n",
    "optimizer = torch.optim.Adam(model.parameters(), lr=0.005)\n",
    "\n",
    "def train():\n",
    "    model.train()\n",
    "\n",
    "    total_loss = total_examples = 0\n",
    "    for data in tqdm(loader):\n",
    "        data = data.to(device)\n",
    "        optimizer.zero_grad()\n",
    "        h = model(data.x, data.edge_index)\n",
    "\n",
    "        h_src = h[data.edge_label_index[0]]\n",
    "        h_dst = h[data.edge_label_index[1]]\n",
    "        link_pred = (h_src * h_dst).sum(dim=-1)  # Inner product.\n",
    "\n",
    "        loss = F.binary_cross_entropy_with_logits(link_pred, data.edge_label)\n",
    "        loss.backward()\n",
    "        optimizer.step()\n",
    "\n",
    "        total_loss += float(loss) * link_pred.numel()\n",
    "        total_examples += link_pred.numel()\n",
    "\n",
    "    return total_loss / total_examples"
   ]
  },
  {
   "cell_type": "code",
   "execution_count": 24,
   "metadata": {
    "colab": {
     "base_uri": "https://localhost:8080/",
     "height": 66,
     "referenced_widgets": [
      "dc5f617bb07142a389e2002b16405314",
      "e286e6fb0219454dbd825e9befda99cd",
      "b5240d73df7747a1a74756c0e012bd5c",
      "4291800ed9454f24a9f5d02f66267cc1",
      "1732747a559e432cb6159a1da855fe19",
      "2feb47a487d6412eaff5ead16b83d3eb",
      "b8641fd4cf214983a3250a8124a5d593",
      "4c849a851f014a2996cb4d06b5c57f55",
      "511c346e40ea40ea8746f6b39a06b298",
      "9b68cf43ba224491b9e1dea582f0c134",
      "cd14cb6a4f654661ba100db5f7541c0d"
     ]
    },
    "executionInfo": {
     "elapsed": 2094,
     "status": "ok",
     "timestamp": 1707152985594,
     "user": {
      "displayName": "Sanjana Cheerla",
      "userId": "01165695743008657535"
     },
     "user_tz": 300
    },
    "id": "NtcKbcNOtQrd",
    "outputId": "6ad8e267-4119-47ba-cc07-1a134b6460ad"
   },
   "outputs": [
    {
     "data": {
      "application/vnd.jupyter.widget-view+json": {
       "model_id": "270d4f02ce4348edbb85a83685a58353",
       "version_major": 2,
       "version_minor": 0
      },
      "text/plain": [
       "  0%|          | 0/3011 [00:00<?, ?it/s]"
      ]
     },
     "metadata": {},
     "output_type": "display_data"
    },
    {
     "name": "stdout",
     "output_type": "stream",
     "text": [
      "Epoch: 00, Loss: 0.4146\n"
     ]
    },
    {
     "data": {
      "application/vnd.jupyter.widget-view+json": {
       "model_id": "74417fc5ceb64fd29ca38c05f2c44344",
       "version_major": 2,
       "version_minor": 0
      },
      "text/plain": [
       "  0%|          | 0/3011 [00:00<?, ?it/s]"
      ]
     },
     "metadata": {},
     "output_type": "display_data"
    },
    {
     "name": "stdout",
     "output_type": "stream",
     "text": [
      "Epoch: 01, Loss: 0.3976\n"
     ]
    },
    {
     "data": {
      "application/vnd.jupyter.widget-view+json": {
       "model_id": "41032ded777d474fa63d1df289ba9a3b",
       "version_major": 2,
       "version_minor": 0
      },
      "text/plain": [
       "  0%|          | 0/3011 [00:00<?, ?it/s]"
      ]
     },
     "metadata": {},
     "output_type": "display_data"
    },
    {
     "name": "stdout",
     "output_type": "stream",
     "text": [
      "Epoch: 02, Loss: 0.3972\n"
     ]
    },
    {
     "data": {
      "application/vnd.jupyter.widget-view+json": {
       "model_id": "555a3ed24def41179ed37e0d3f9c61c6",
       "version_major": 2,
       "version_minor": 0
      },
      "text/plain": [
       "  0%|          | 0/3011 [00:00<?, ?it/s]"
      ]
     },
     "metadata": {},
     "output_type": "display_data"
    },
    {
     "name": "stdout",
     "output_type": "stream",
     "text": [
      "Epoch: 03, Loss: 0.3933\n"
     ]
    },
    {
     "data": {
      "application/vnd.jupyter.widget-view+json": {
       "model_id": "8c6f06b50644499195eb8a3d3c195261",
       "version_major": 2,
       "version_minor": 0
      },
      "text/plain": [
       "  0%|          | 0/3011 [00:00<?, ?it/s]"
      ]
     },
     "metadata": {},
     "output_type": "display_data"
    },
    {
     "name": "stdout",
     "output_type": "stream",
     "text": [
      "Epoch: 04, Loss: 0.3898\n"
     ]
    },
    {
     "data": {
      "application/vnd.jupyter.widget-view+json": {
       "model_id": "6e05595bc9764fbebec0c895d568338d",
       "version_major": 2,
       "version_minor": 0
      },
      "text/plain": [
       "  0%|          | 0/3011 [00:00<?, ?it/s]"
      ]
     },
     "metadata": {},
     "output_type": "display_data"
    },
    {
     "name": "stdout",
     "output_type": "stream",
     "text": [
      "Epoch: 05, Loss: 0.3946\n"
     ]
    },
    {
     "data": {
      "application/vnd.jupyter.widget-view+json": {
       "model_id": "a4444a3a5202473e885ac62b2ecf7212",
       "version_major": 2,
       "version_minor": 0
      },
      "text/plain": [
       "  0%|          | 0/3011 [00:00<?, ?it/s]"
      ]
     },
     "metadata": {},
     "output_type": "display_data"
    },
    {
     "name": "stdout",
     "output_type": "stream",
     "text": [
      "Epoch: 06, Loss: 0.3919\n"
     ]
    },
    {
     "data": {
      "application/vnd.jupyter.widget-view+json": {
       "model_id": "16aa16c4f89f405095d4d59353a69bf3",
       "version_major": 2,
       "version_minor": 0
      },
      "text/plain": [
       "  0%|          | 0/3011 [00:00<?, ?it/s]"
      ]
     },
     "metadata": {},
     "output_type": "display_data"
    },
    {
     "name": "stdout",
     "output_type": "stream",
     "text": [
      "Epoch: 07, Loss: 0.3911\n"
     ]
    },
    {
     "data": {
      "application/vnd.jupyter.widget-view+json": {
       "model_id": "72e81e290c664dbe9631e71dff3dccd1",
       "version_major": 2,
       "version_minor": 0
      },
      "text/plain": [
       "  0%|          | 0/3011 [00:00<?, ?it/s]"
      ]
     },
     "metadata": {},
     "output_type": "display_data"
    },
    {
     "name": "stdout",
     "output_type": "stream",
     "text": [
      "Epoch: 08, Loss: 0.3874\n"
     ]
    },
    {
     "data": {
      "application/vnd.jupyter.widget-view+json": {
       "model_id": "609aae27d8494541a198014d5da5b5a8",
       "version_major": 2,
       "version_minor": 0
      },
      "text/plain": [
       "  0%|          | 0/3011 [00:00<?, ?it/s]"
      ]
     },
     "metadata": {},
     "output_type": "display_data"
    },
    {
     "name": "stdout",
     "output_type": "stream",
     "text": [
      "Epoch: 09, Loss: 0.3990\n"
     ]
    }
   ],
   "source": [
    "for epoch in range(10):\n",
    "    loss = train()\n",
    "    print(f'Epoch: {epoch:02d}, Loss: {loss:.4f}')"
   ]
  },
  {
   "cell_type": "markdown",
   "metadata": {
    "id": "JsHLW1Qx3FpY"
   },
   "source": [
    "## If you skipped above, continue here."
   ]
  },
  {
   "cell_type": "code",
   "execution_count": 11,
   "metadata": {
    "id": "VyoSxv7xtiqZ"
   },
   "outputs": [],
   "source": [
    "def make_dataset():\n",
    "    if os.path.exists('positive_edges.txt'):\n",
    "        f = open('positive_edges.txt', 'r').readlines()\n",
    "        positive_edges = [list(map(int, x.split())) for x in f]\n",
    "    else:\n",
    "        positive_edges = list(zip(edge_index[0], edge_index[1]))\n",
    "        with open('positive_edges.txt', 'w') as pos_file:\n",
    "            pos_file.writelines([f'{x[0]} {x[1]}\\n' for x in positive_edges])\n",
    "    \n",
    "    if os.path.exists('negative_edges.txt'):\n",
    "        f = open('negative_edges.txt', 'r').readlines()\n",
    "        negative_edges = [list(map(int, x.split())) for x in f]\n",
    "    else:\n",
    "        n_pos = edge_index.shape[1]\n",
    "        negative_edges = set()\n",
    "        n_neg = 0\n",
    "        \n",
    "        bar = tqdm(total=n_pos)\n",
    "        while n_neg < n_pos:\n",
    "            n1, n2 = random.sample(range(G.number_of_nodes()), 2)\n",
    "\n",
    "            if (n1, n2) not in positive_edges and (n2, n1) not in positive_edges:\n",
    "                negative_edges.add((n1, n2))\n",
    "\n",
    "            n_neg += 1\n",
    "            bar.update(1)\n",
    "        \n",
    "        negative_edges = list(negative_edges)\n",
    "\n",
    "        # Save negative edges to a file\n",
    "        with open('negative_edges.txt', 'w') as neg_file:\n",
    "            neg_file.writelines([f'{x[0]} {x[1]}\\n' for x in negative_edges])\n",
    "\n",
    "    return positive_edges, negative_edges"
   ]
  },
  {
   "cell_type": "code",
   "execution_count": 12,
   "metadata": {},
   "outputs": [
    {
     "data": {
      "text/plain": [
       "[(0, 1, 0, {'action': 'decreases^expression', 'id': '0'}),\n",
       " (0, 2, 0, {'action': 'decreases^expression', 'id': '1'}),\n",
       " (3, 4, 0, {'action': 'decreases^activity', 'id': '2'}),\n",
       " (3, 5, 0, {'action': 'decreases^activity', 'id': '3'}),\n",
       " (6, 7, 0, {'action': 'decreases^activity', 'id': '4'})]"
      ]
     },
     "execution_count": 12,
     "metadata": {},
     "output_type": "execute_result"
    }
   ],
   "source": [
    "list(G.edges(keys=True, data=True))[:5]"
   ]
  },
  {
   "cell_type": "code",
   "execution_count": 13,
   "metadata": {
    "id": "-2AXuSpu436Q"
   },
   "outputs": [],
   "source": [
    "def make_classification_dataset(): \n",
    "    if os.path.exists('X.npy') and os.path.exists('y.npy'):\n",
    "        return np.load(open('X.npy', 'rb')), np.load(open('y.npy', 'rb'))\n",
    "    else:\n",
    "        if os.path.exists('sage_embeddings_mainmap.pkl'):\n",
    "            with open('sage_embeddings_mainmap.pkl', 'rb') as f:\n",
    "                emb_map = pickle.load(f)\n",
    "\n",
    "            embeddings = np.array([v[1] for k, v in emb_map.items()])\n",
    "            print(f'Loaded embeddings with shape {embeddings.shape}')\n",
    "            assert len(embeddings) == len(G.nodes())\n",
    "        else:\n",
    "            loader = LinkNeighborLoader(data, batch_size=32, shuffle=True,\n",
    "                                    neg_sampling_ratio=1.0, num_neighbors=[10, 10],\n",
    "                                    num_workers=4, persistent_workers=True)\n",
    "\n",
    "            embeddings = []\n",
    "            print('Generating embeddings...')\n",
    "            for batch in tqdm(loader):\n",
    "                embeddings.extend(model(batch.x, batch.edge_index).detach().cpu().numpy().tolist())\n",
    "\n",
    "            #embeddings = model(data.x, data.edge_index).detach().cpu().numpy()\n",
    "            emb_map = {node: [idx, embeddings[idx]] for idx, node in enumerate(G.nodes())}\n",
    "            reverse_map = {idx: [node, embeddings[idx]] for idx, node in enumerate(G.nodes())}\n",
    "\n",
    "            print('Dumping embeddings...')\n",
    "            with open('sage_embeddings_mainmap.pkl', 'wb') as f:\n",
    "                pickle.dump(emb_map, f)\n",
    "\n",
    "            with open('sage_embeddings_reversemap.pkl', 'wb') as f:\n",
    "                pickle.dump(reverse_map, f)\n",
    "\n",
    "        print('Generating dataset...')\n",
    "        p, n = make_dataset()\n",
    "        X_pos = np.array([np.hstack((embeddings[n1], embeddings[n2])) for n1, n2 in p])\n",
    "\n",
    "        # Assuming one_hot_encoded_df contains the one-hot encoded columns\n",
    "        interaction_actions_columns = [\n",
    "            'affects^activity', 'affects^binding',\n",
    "            'affects^expression', 'affects^localization',\n",
    "            'affects^metabolic processing', 'affects^response to substance',\n",
    "            'decreases^activity', 'decreases^expression',\n",
    "            'decreases^phosphorylation', 'decreases^response to substance',\n",
    "            'increases^ADP-ribosylation', 'increases^abundance',\n",
    "            'increases^activity', 'increases^chemical synthesis',\n",
    "            'increases^cleavage', 'increases^expression',\n",
    "            'increases^glucuronidation', 'increases^metabolic processing',\n",
    "            'increases^methylation', 'increases^mutagenesis', 'increases^oxidation',\n",
    "            'increases^phosphorylation', 'increases^reduction',\n",
    "            'increases^response to substance', 'increases^secretion'\n",
    "        ]\n",
    "\n",
    "        # Concatenate one-hot encoded columns into a single tensor\n",
    "        y_pos = []\n",
    "\n",
    "        start_column_index = 14\n",
    "        end_column_index = len(df.columns)\n",
    "\n",
    "        for source, target, key, data_ in G.edges(keys=True, data=True):\n",
    "            id_value = int(data_['id'])\n",
    "            concatenated_values = df.iloc[id_value, start_column_index:end_column_index + 1].values.tolist()\n",
    "            y_pos.append(concatenated_values)\n",
    "\n",
    "        X_neg = np.array([np.hstack((embeddings[n1], embeddings[n2])) for n1, n2 in n])\n",
    "        y_neg =  np.zeros((len(X_neg), 26))\n",
    "\n",
    "        X = np.vstack((X_pos, X_neg))\n",
    "        y = np.concatenate((y_pos, y_neg))\n",
    "\n",
    "        np.save('X.npy', X)\n",
    "        np.save('y.npy', y)\n",
    "\n",
    "        return X, y"
   ]
  },
  {
   "cell_type": "code",
   "execution_count": 14,
   "metadata": {
    "id": "Nkd8DVqNjjap"
   },
   "outputs": [],
   "source": [
    "X, y = make_classification_dataset()"
   ]
  },
  {
   "cell_type": "code",
   "execution_count": 15,
   "metadata": {
    "colab": {
     "base_uri": "https://localhost:8080/"
    },
    "executionInfo": {
     "elapsed": 14,
     "status": "ok",
     "timestamp": 1707153017470,
     "user": {
      "displayName": "Sanjana Cheerla",
      "userId": "01165695743008657535"
     },
     "user_tz": 300
    },
    "id": "E8GX_majqcXc",
    "outputId": "6cff0d52-7275-41eb-d582-1a33de9321c8"
   },
   "outputs": [
    {
     "name": "stdout",
     "output_type": "stream",
     "text": [
      "192659\n",
      "192659\n"
     ]
    }
   ],
   "source": [
    "print(len(X))\n",
    "print(len(y))"
   ]
  },
  {
   "cell_type": "code",
   "execution_count": 16,
   "metadata": {},
   "outputs": [
    {
     "data": {
      "text/plain": [
       "((192659, 128), (192659, 26))"
      ]
     },
     "execution_count": 16,
     "metadata": {},
     "output_type": "execute_result"
    }
   ],
   "source": [
    "X.shape, y.shape"
   ]
  },
  {
   "cell_type": "code",
   "execution_count": 17,
   "metadata": {},
   "outputs": [],
   "source": [
    "X_train, X_test, y_train, y_test = train_test_split(X, y)"
   ]
  },
  {
   "cell_type": "code",
   "execution_count": 18,
   "metadata": {},
   "outputs": [
    {
     "data": {
      "text/plain": [
       "((144494, 128), (144494, 26), (48165, 128), (48165, 26))"
      ]
     },
     "execution_count": 18,
     "metadata": {},
     "output_type": "execute_result"
    }
   ],
   "source": [
    "X_train.shape, y_train.shape, X_test.shape, y_test.shape"
   ]
  },
  {
   "cell_type": "code",
   "execution_count": 19,
   "metadata": {},
   "outputs": [],
   "source": [
    "smote = SMOTE()\n",
    "y_train = np.argmax(y_train, axis=1)\n",
    "X_train, y_train = smote.fit_resample(X_train, y_train)"
   ]
  },
  {
   "cell_type": "code",
   "execution_count": 20,
   "metadata": {},
   "outputs": [
    {
     "data": {
      "text/plain": [
       "((1808325, 128), (1808325,))"
      ]
     },
     "execution_count": 20,
     "metadata": {},
     "output_type": "execute_result"
    }
   ],
   "source": [
    "X_train.shape, y_train.shape"
   ]
  },
  {
   "cell_type": "code",
   "execution_count": 21,
   "metadata": {},
   "outputs": [],
   "source": [
    "y_train = to_categorical(y_train, num_classes=26)"
   ]
  },
  {
   "cell_type": "code",
   "execution_count": 22,
   "metadata": {},
   "outputs": [
    {
     "data": {
      "text/plain": [
       "112844"
      ]
     },
     "execution_count": 22,
     "metadata": {},
     "output_type": "execute_result"
    }
   ],
   "source": [
    "del X, y\n",
    "import gc\n",
    "gc.collect()"
   ]
  },
  {
   "cell_type": "code",
   "execution_count": 23,
   "metadata": {},
   "outputs": [],
   "source": [
    "clf = Sequential([\n",
    "    Dense(64, activation='relu'),\n",
    "    Dense(32, activation='relu'),\n",
    "    Dense(16, activation='relu'),\n",
    "    Dense(26, activation='softmax')\n",
    "])"
   ]
  },
  {
   "cell_type": "code",
   "execution_count": 24,
   "metadata": {},
   "outputs": [
    {
     "name": "stderr",
     "output_type": "stream",
     "text": [
      "2024-02-09 09:31:14.561753: I tensorflow/compiler/xla/stream_executor/cuda/cuda_gpu_executor.cc:995] successful NUMA node read from SysFS had negative value (-1), but there must be at least one NUMA node, so returning NUMA node zero. See more at https://github.com/torvalds/linux/blob/v6.0/Documentation/ABI/testing/sysfs-bus-pci#L344-L355\n",
      "2024-02-09 09:31:14.627856: I tensorflow/compiler/xla/stream_executor/cuda/cuda_gpu_executor.cc:995] successful NUMA node read from SysFS had negative value (-1), but there must be at least one NUMA node, so returning NUMA node zero. See more at https://github.com/torvalds/linux/blob/v6.0/Documentation/ABI/testing/sysfs-bus-pci#L344-L355\n",
      "2024-02-09 09:31:14.630892: I tensorflow/compiler/xla/stream_executor/cuda/cuda_gpu_executor.cc:995] successful NUMA node read from SysFS had negative value (-1), but there must be at least one NUMA node, so returning NUMA node zero. See more at https://github.com/torvalds/linux/blob/v6.0/Documentation/ABI/testing/sysfs-bus-pci#L344-L355\n",
      "2024-02-09 09:31:14.675361: I tensorflow/compiler/xla/stream_executor/cuda/cuda_gpu_executor.cc:995] successful NUMA node read from SysFS had negative value (-1), but there must be at least one NUMA node, so returning NUMA node zero. See more at https://github.com/torvalds/linux/blob/v6.0/Documentation/ABI/testing/sysfs-bus-pci#L344-L355\n",
      "2024-02-09 09:31:14.678363: I tensorflow/compiler/xla/stream_executor/cuda/cuda_gpu_executor.cc:995] successful NUMA node read from SysFS had negative value (-1), but there must be at least one NUMA node, so returning NUMA node zero. See more at https://github.com/torvalds/linux/blob/v6.0/Documentation/ABI/testing/sysfs-bus-pci#L344-L355\n",
      "2024-02-09 09:31:14.681167: I tensorflow/compiler/xla/stream_executor/cuda/cuda_gpu_executor.cc:995] successful NUMA node read from SysFS had negative value (-1), but there must be at least one NUMA node, so returning NUMA node zero. See more at https://github.com/torvalds/linux/blob/v6.0/Documentation/ABI/testing/sysfs-bus-pci#L344-L355\n",
      "2024-02-09 09:32:33.572525: I tensorflow/compiler/xla/stream_executor/cuda/cuda_gpu_executor.cc:995] successful NUMA node read from SysFS had negative value (-1), but there must be at least one NUMA node, so returning NUMA node zero. See more at https://github.com/torvalds/linux/blob/v6.0/Documentation/ABI/testing/sysfs-bus-pci#L344-L355\n",
      "2024-02-09 09:32:33.574629: I tensorflow/compiler/xla/stream_executor/cuda/cuda_gpu_executor.cc:995] successful NUMA node read from SysFS had negative value (-1), but there must be at least one NUMA node, so returning NUMA node zero. See more at https://github.com/torvalds/linux/blob/v6.0/Documentation/ABI/testing/sysfs-bus-pci#L344-L355\n",
      "2024-02-09 09:32:33.576542: I tensorflow/compiler/xla/stream_executor/cuda/cuda_gpu_executor.cc:995] successful NUMA node read from SysFS had negative value (-1), but there must be at least one NUMA node, so returning NUMA node zero. See more at https://github.com/torvalds/linux/blob/v6.0/Documentation/ABI/testing/sysfs-bus-pci#L344-L355\n",
      "2024-02-09 09:32:33.578350: I tensorflow/core/common_runtime/gpu/gpu_device.cc:1639] Created device /job:localhost/replica:0/task:0/device:GPU:0 with 13085 MB memory:  -> device: 0, name: Tesla T4, pci bus id: 0000:00:04.0, compute capability: 7.5\n"
     ]
    }
   ],
   "source": [
    "clf.compile(optimizer=KAdam(learning_rate=1e-4), loss='categorical_crossentropy', metrics=['acc'])"
   ]
  },
  {
   "cell_type": "code",
   "execution_count": 25,
   "metadata": {},
   "outputs": [
    {
     "name": "stderr",
     "output_type": "stream",
     "text": [
      "2024-02-09 09:32:36.363922: W tensorflow/tsl/framework/cpu_allocator_impl.cc:83] Allocation of 925862400 exceeds 10% of free system memory.\n",
      "2024-02-09 09:32:37.176902: W tensorflow/tsl/framework/cpu_allocator_impl.cc:83] Allocation of 925862400 exceeds 10% of free system memory.\n"
     ]
    },
    {
     "name": "stdout",
     "output_type": "stream",
     "text": [
      "Epoch 1/10\n"
     ]
    },
    {
     "name": "stderr",
     "output_type": "stream",
     "text": [
      "2024-02-09 09:32:40.125038: I tensorflow/compiler/xla/service/service.cc:168] XLA service 0x55eb97545950 initialized for platform CUDA (this does not guarantee that XLA will be used). Devices:\n",
      "2024-02-09 09:32:40.125092: I tensorflow/compiler/xla/service/service.cc:176]   StreamExecutor device (0): Tesla T4, Compute Capability 7.5\n",
      "2024-02-09 09:32:42.990191: I tensorflow/compiler/mlir/tensorflow/utils/dump_mlir_util.cc:255] disabling MLIR crash reproducer, set env var `MLIR_CRASH_REPRODUCER_DIRECTORY` to enable.\n",
      "2024-02-09 09:32:50.341956: I tensorflow/compiler/xla/stream_executor/cuda/cuda_dnn.cc:432] Loaded cuDNN version 8900\n"
     ]
    },
    {
     "name": "stdout",
     "output_type": "stream",
     "text": [
      "\u001b[1m   85/28256\u001b[0m \u001b[37m━━━━━━━━━━━━━━━━━━━━\u001b[0m \u001b[1m51s\u001b[0m 2ms/step - acc: 0.0345 - loss: 3.3502       "
     ]
    },
    {
     "name": "stderr",
     "output_type": "stream",
     "text": [
      "2024-02-09 09:32:55.097667: I ./tensorflow/compiler/jit/device_compiler.h:186] Compiled cluster using XLA!  This line is logged at most once for the lifetime of the process.\n"
     ]
    },
    {
     "name": "stdout",
     "output_type": "stream",
     "text": [
      "\u001b[1m28256/28256\u001b[0m \u001b[32m━━━━━━━━━━━━━━━━━━━━\u001b[0m\u001b[37m\u001b[0m \u001b[1m62s\u001b[0m 2ms/step - acc: 0.1495 - loss: 2.9748\n",
      "Epoch 2/10\n",
      "\u001b[1m28256/28256\u001b[0m \u001b[32m━━━━━━━━━━━━━━━━━━━━\u001b[0m\u001b[37m\u001b[0m \u001b[1m44s\u001b[0m 2ms/step - acc: 0.2529 - loss: 2.6151\n",
      "Epoch 3/10\n",
      "\u001b[1m28256/28256\u001b[0m \u001b[32m━━━━━━━━━━━━━━━━━━━━\u001b[0m\u001b[37m\u001b[0m \u001b[1m44s\u001b[0m 2ms/step - acc: 0.2870 - loss: 2.4827\n",
      "Epoch 4/10\n",
      "\u001b[1m28256/28256\u001b[0m \u001b[32m━━━━━━━━━━━━━━━━━━━━\u001b[0m\u001b[37m\u001b[0m \u001b[1m43s\u001b[0m 2ms/step - acc: 0.3064 - loss: 2.4035\n",
      "Epoch 5/10\n",
      "\u001b[1m28256/28256\u001b[0m \u001b[32m━━━━━━━━━━━━━━━━━━━━\u001b[0m\u001b[37m\u001b[0m \u001b[1m45s\u001b[0m 2ms/step - acc: 0.3221 - loss: 2.3465\n",
      "Epoch 6/10\n",
      "\u001b[1m28256/28256\u001b[0m \u001b[32m━━━━━━━━━━━━━━━━━━━━\u001b[0m\u001b[37m\u001b[0m \u001b[1m43s\u001b[0m 2ms/step - acc: 0.3351 - loss: 2.3024\n",
      "Epoch 7/10\n",
      "\u001b[1m28256/28256\u001b[0m \u001b[32m━━━━━━━━━━━━━━━━━━━━\u001b[0m\u001b[37m\u001b[0m \u001b[1m43s\u001b[0m 2ms/step - acc: 0.3475 - loss: 2.2659\n",
      "Epoch 8/10\n",
      "\u001b[1m28256/28256\u001b[0m \u001b[32m━━━━━━━━━━━━━━━━━━━━\u001b[0m\u001b[37m\u001b[0m \u001b[1m43s\u001b[0m 2ms/step - acc: 0.3579 - loss: 2.2360\n",
      "Epoch 9/10\n",
      "\u001b[1m28256/28256\u001b[0m \u001b[32m━━━━━━━━━━━━━━━━━━━━\u001b[0m\u001b[37m\u001b[0m \u001b[1m43s\u001b[0m 2ms/step - acc: 0.3669 - loss: 2.2084\n",
      "Epoch 10/10\n",
      "\u001b[1m28256/28256\u001b[0m \u001b[32m━━━━━━━━━━━━━━━━━━━━\u001b[0m\u001b[37m\u001b[0m \u001b[1m43s\u001b[0m 2ms/step - acc: 0.3730 - loss: 2.1846\n"
     ]
    },
    {
     "data": {
      "text/plain": [
       "<keras.src.callbacks.history.History at 0x7fd39272e290>"
      ]
     },
     "execution_count": 25,
     "metadata": {},
     "output_type": "execute_result"
    }
   ],
   "source": [
    "history = clf.fit(X_train, y_train, batch_size=64, epochs=10)"
   ]
  },
  {
   "cell_type": "code",
   "execution_count": 31,
   "metadata": {},
   "outputs": [
    {
     "data": {
      "image/png": "[encoded data removed]",
      "text/plain": [
       "<Figure size 640x480 with 1 Axes>"
      ]
     },
     "metadata": {},
     "output_type": "display_data"
    }
   ],
   "source": [
    "plt.plot(range(10), history.history['acc']);"
   ]
  },
  {
   "cell_type": "code",
   "execution_count": 32,
   "metadata": {},
   "outputs": [
    {
     "data": {
      "image/png": "[encoded data removed]",
      "text/plain": [
       "<Figure size 640x480 with 1 Axes>"
      ]
     },
     "metadata": {},
     "output_type": "display_data"
    }
   ],
   "source": [
    "plt.plot(range(10), history.history['loss']);"
   ]
  },
  {
   "cell_type": "code",
   "execution_count": 33,
   "metadata": {},
   "outputs": [
    {
     "name": "stderr",
     "output_type": "stream",
     "text": [
      "2024-02-09 09:42:43.400679: W tensorflow/tsl/framework/cpu_allocator_impl.cc:83] Allocation of 925862400 exceeds 10% of free system memory.\n",
      "2024-02-09 09:42:44.211684: W tensorflow/tsl/framework/cpu_allocator_impl.cc:83] Allocation of 925862400 exceeds 10% of free system memory.\n"
     ]
    },
    {
     "name": "stdout",
     "output_type": "stream",
     "text": [
      "Epoch 1/10\n",
      "\u001b[1m28256/28256\u001b[0m \u001b[32m━━━━━━━━━━━━━━━━━━━━\u001b[0m\u001b[37m\u001b[0m \u001b[1m44s\u001b[0m 2ms/step - acc: 0.3800 - loss: 2.1616\n",
      "Epoch 2/10\n",
      "\u001b[1m28256/28256\u001b[0m \u001b[32m━━━━━━━━━━━━━━━━━━━━\u001b[0m\u001b[37m\u001b[0m \u001b[1m44s\u001b[0m 2ms/step - acc: 0.3850 - loss: 2.1442\n",
      "Epoch 3/10\n",
      "\u001b[1m28256/28256\u001b[0m \u001b[32m━━━━━━━━━━━━━━━━━━━━\u001b[0m\u001b[37m\u001b[0m \u001b[1m43s\u001b[0m 2ms/step - acc: 0.3900 - loss: 2.1254\n",
      "Epoch 4/10\n",
      "\u001b[1m28256/28256\u001b[0m \u001b[32m━━━━━━━━━━━━━━━━━━━━\u001b[0m\u001b[37m\u001b[0m \u001b[1m44s\u001b[0m 2ms/step - acc: 0.3942 - loss: 2.1116\n",
      "Epoch 5/10\n",
      "\u001b[1m28256/28256\u001b[0m \u001b[32m━━━━━━━━━━━━━━━━━━━━\u001b[0m\u001b[37m\u001b[0m \u001b[1m44s\u001b[0m 2ms/step - acc: 0.3972 - loss: 2.0969\n",
      "Epoch 6/10\n",
      "\u001b[1m28256/28256\u001b[0m \u001b[32m━━━━━━━━━━━━━━━━━━━━\u001b[0m\u001b[37m\u001b[0m \u001b[1m44s\u001b[0m 2ms/step - acc: 0.4006 - loss: 2.0836\n",
      "Epoch 7/10\n",
      "\u001b[1m28256/28256\u001b[0m \u001b[32m━━━━━━━━━━━━━━━━━━━━\u001b[0m\u001b[37m\u001b[0m \u001b[1m43s\u001b[0m 2ms/step - acc: 0.4045 - loss: 2.0692\n",
      "Epoch 8/10\n",
      "\u001b[1m28256/28256\u001b[0m \u001b[32m━━━━━━━━━━━━━━━━━━━━\u001b[0m\u001b[37m\u001b[0m \u001b[1m46s\u001b[0m 2ms/step - acc: 0.4066 - loss: 2.0606\n",
      "Epoch 9/10\n",
      "\u001b[1m28256/28256\u001b[0m \u001b[32m━━━━━━━━━━━━━━━━━━━━\u001b[0m\u001b[37m\u001b[0m \u001b[1m45s\u001b[0m 2ms/step - acc: 0.4087 - loss: 2.0516\n",
      "Epoch 10/10\n",
      "\u001b[1m28256/28256\u001b[0m \u001b[32m━━━━━━━━━━━━━━━━━━━━\u001b[0m\u001b[37m\u001b[0m \u001b[1m46s\u001b[0m 2ms/step - acc: 0.4124 - loss: 2.0400\n"
     ]
    }
   ],
   "source": [
    "history = clf.fit(X_train, y_train, batch_size=64, epochs=10)"
   ]
  },
  {
   "cell_type": "code",
   "execution_count": null,
   "metadata": {},
   "outputs": [],
   "source": []
  }
 ],
 "metadata": {
  "colab": {
   "authorship_tag": "ABX9TyOc6EKz02hyuzarg9BuxwK8",
   "provenance": []
  },
  "kernelspec": {
   "display_name": "Python 3 (ipykernel)",
   "language": "python",
   "name": "python3"
  },
  "language_info": {
   "codemirror_mode": {
    "name": "ipython",
    "version": 3
   },
   "file_extension": ".py",
   "mimetype": "text/x-python",
   "name": "python",
   "nbconvert_exporter": "python",
   "pygments_lexer": "ipython3",
   "version": "3.10.13"
  },
  "widgets": {
   "application/vnd.jupyter.widget-state+json": {
    "1732747a559e432cb6159a1da855fe19": {
     "model_module": "@jupyter-widgets/base",
     "model_module_version": "1.2.0",
     "model_name": "LayoutModel",
     "state": {
      "_model_module": "@jupyter-widgets/base",
      "_model_module_version": "1.2.0",
      "_model_name": "LayoutModel",
      "_view_count": null,
      "_view_module": "@jupyter-widgets/base",
      "_view_module_version": "1.2.0",
      "_view_name": "LayoutView",
      "align_content": null,
      "align_items": null,
      "align_self": null,
      "border": null,
      "bottom": null,
      "display": null,
      "flex": null,
      "flex_flow": null,
      "grid_area": null,
      "grid_auto_columns": null,
      "grid_auto_flow": null,
      "grid_auto_rows": null,
      "grid_column": null,
      "grid_gap": null,
      "grid_row": null,
      "grid_template_areas": null,
      "grid_template_columns": null,
      "grid_template_rows": null,
      "height": null,
      "justify_content": null,
      "justify_items": null,
      "left": null,
      "margin": null,
      "max_height": null,
      "max_width": null,
      "min_height": null,
      "min_width": null,
      "object_fit": null,
      "object_position": null,
      "order": null,
      "overflow": null,
      "overflow_x": null,
      "overflow_y": null,
      "padding": null,
      "right": null,
      "top": null,
      "visibility": null,
      "width": null
     }
    },
    "2feb47a487d6412eaff5ead16b83d3eb": {
     "model_module": "@jupyter-widgets/base",
     "model_module_version": "1.2.0",
     "model_name": "LayoutModel",
     "state": {
      "_model_module": "@jupyter-widgets/base",
      "_model_module_version": "1.2.0",
      "_model_name": "LayoutModel",
      "_view_count": null,
      "_view_module": "@jupyter-widgets/base",
      "_view_module_version": "1.2.0",
      "_view_name": "LayoutView",
      "align_content": null,
      "align_items": null,
      "align_self": null,
      "border": null,
      "bottom": null,
      "display": null,
      "flex": null,
      "flex_flow": null,
      "grid_area": null,
      "grid_auto_columns": null,
      "grid_auto_flow": null,
      "grid_auto_rows": null,
      "grid_column": null,
      "grid_gap": null,
      "grid_row": null,
      "grid_template_areas": null,
      "grid_template_columns": null,
      "grid_template_rows": null,
      "height": null,
      "justify_content": null,
      "justify_items": null,
      "left": null,
      "margin": null,
      "max_height": null,
      "max_width": null,
      "min_height": null,
      "min_width": null,
      "object_fit": null,
      "object_position": null,
      "order": null,
      "overflow": null,
      "overflow_x": null,
      "overflow_y": null,
      "padding": null,
      "right": null,
      "top": null,
      "visibility": null,
      "width": null
     }
    },
    "4291800ed9454f24a9f5d02f66267cc1": {
     "model_module": "@jupyter-widgets/controls",
     "model_module_version": "1.5.0",
     "model_name": "HTMLModel",
     "state": {
      "_dom_classes": [],
      "_model_module": "@jupyter-widgets/controls",
      "_model_module_version": "1.5.0",
      "_model_name": "HTMLModel",
      "_view_count": null,
      "_view_module": "@jupyter-widgets/controls",
      "_view_module_version": "1.5.0",
      "_view_name": "HTMLView",
      "description": "",
      "description_tooltip": null,
      "layout": "IPY_MODEL_9b68cf43ba224491b9e1dea582f0c134",
      "placeholder": "​",
      "style": "IPY_MODEL_cd14cb6a4f654661ba100db5f7541c0d",
      "value": " 41/41 [00:02&lt;00:00, 30.15it/s]"
     }
    },
    "4c849a851f014a2996cb4d06b5c57f55": {
     "model_module": "@jupyter-widgets/base",
     "model_module_version": "1.2.0",
     "model_name": "LayoutModel",
     "state": {
      "_model_module": "@jupyter-widgets/base",
      "_model_module_version": "1.2.0",
      "_model_name": "LayoutModel",
      "_view_count": null,
      "_view_module": "@jupyter-widgets/base",
      "_view_module_version": "1.2.0",
      "_view_name": "LayoutView",
      "align_content": null,
      "align_items": null,
      "align_self": null,
      "border": null,
      "bottom": null,
      "display": null,
      "flex": null,
      "flex_flow": null,
      "grid_area": null,
      "grid_auto_columns": null,
      "grid_auto_flow": null,
      "grid_auto_rows": null,
      "grid_column": null,
      "grid_gap": null,
      "grid_row": null,
      "grid_template_areas": null,
      "grid_template_columns": null,
      "grid_template_rows": null,
      "height": null,
      "justify_content": null,
      "justify_items": null,
      "left": null,
      "margin": null,
      "max_height": null,
      "max_width": null,
      "min_height": null,
      "min_width": null,
      "object_fit": null,
      "object_position": null,
      "order": null,
      "overflow": null,
      "overflow_x": null,
      "overflow_y": null,
      "padding": null,
      "right": null,
      "top": null,
      "visibility": null,
      "width": null
     }
    },
    "511c346e40ea40ea8746f6b39a06b298": {
     "model_module": "@jupyter-widgets/controls",
     "model_module_version": "1.5.0",
     "model_name": "ProgressStyleModel",
     "state": {
      "_model_module": "@jupyter-widgets/controls",
      "_model_module_version": "1.5.0",
      "_model_name": "ProgressStyleModel",
      "_view_count": null,
      "_view_module": "@jupyter-widgets/base",
      "_view_module_version": "1.2.0",
      "_view_name": "StyleView",
      "bar_color": null,
      "description_width": ""
     }
    },
    "9b68cf43ba224491b9e1dea582f0c134": {
     "model_module": "@jupyter-widgets/base",
     "model_module_version": "1.2.0",
     "model_name": "LayoutModel",
     "state": {
      "_model_module": "@jupyter-widgets/base",
      "_model_module_version": "1.2.0",
      "_model_name": "LayoutModel",
      "_view_count": null,
      "_view_module": "@jupyter-widgets/base",
      "_view_module_version": "1.2.0",
      "_view_name": "LayoutView",
      "align_content": null,
      "align_items": null,
      "align_self": null,
      "border": null,
      "bottom": null,
      "display": null,
      "flex": null,
      "flex_flow": null,
      "grid_area": null,
      "grid_auto_columns": null,
      "grid_auto_flow": null,
      "grid_auto_rows": null,
      "grid_column": null,
      "grid_gap": null,
      "grid_row": null,
      "grid_template_areas": null,
      "grid_template_columns": null,
      "grid_template_rows": null,
      "height": null,
      "justify_content": null,
      "justify_items": null,
      "left": null,
      "margin": null,
      "max_height": null,
      "max_width": null,
      "min_height": null,
      "min_width": null,
      "object_fit": null,
      "object_position": null,
      "order": null,
      "overflow": null,
      "overflow_x": null,
      "overflow_y": null,
      "padding": null,
      "right": null,
      "top": null,
      "visibility": null,
      "width": null
     }
    },
    "b5240d73df7747a1a74756c0e012bd5c": {
     "model_module": "@jupyter-widgets/controls",
     "model_module_version": "1.5.0",
     "model_name": "FloatProgressModel",
     "state": {
      "_dom_classes": [],
      "_model_module": "@jupyter-widgets/controls",
      "_model_module_version": "1.5.0",
      "_model_name": "FloatProgressModel",
      "_view_count": null,
      "_view_module": "@jupyter-widgets/controls",
      "_view_module_version": "1.5.0",
      "_view_name": "ProgressView",
      "bar_style": "success",
      "description": "",
      "description_tooltip": null,
      "layout": "IPY_MODEL_4c849a851f014a2996cb4d06b5c57f55",
      "max": 41,
      "min": 0,
      "orientation": "horizontal",
      "style": "IPY_MODEL_511c346e40ea40ea8746f6b39a06b298",
      "value": 41
     }
    },
    "b8641fd4cf214983a3250a8124a5d593": {
     "model_module": "@jupyter-widgets/controls",
     "model_module_version": "1.5.0",
     "model_name": "DescriptionStyleModel",
     "state": {
      "_model_module": "@jupyter-widgets/controls",
      "_model_module_version": "1.5.0",
      "_model_name": "DescriptionStyleModel",
      "_view_count": null,
      "_view_module": "@jupyter-widgets/base",
      "_view_module_version": "1.2.0",
      "_view_name": "StyleView",
      "description_width": ""
     }
    },
    "cd14cb6a4f654661ba100db5f7541c0d": {
     "model_module": "@jupyter-widgets/controls",
     "model_module_version": "1.5.0",
     "model_name": "DescriptionStyleModel",
     "state": {
      "_model_module": "@jupyter-widgets/controls",
      "_model_module_version": "1.5.0",
      "_model_name": "DescriptionStyleModel",
      "_view_count": null,
      "_view_module": "@jupyter-widgets/base",
      "_view_module_version": "1.2.0",
      "_view_name": "StyleView",
      "description_width": ""
     }
    },
    "dc5f617bb07142a389e2002b16405314": {
     "model_module": "@jupyter-widgets/controls",
     "model_module_version": "1.5.0",
     "model_name": "HBoxModel",
     "state": {
      "_dom_classes": [],
      "_model_module": "@jupyter-widgets/controls",
      "_model_module_version": "1.5.0",
      "_model_name": "HBoxModel",
      "_view_count": null,
      "_view_module": "@jupyter-widgets/controls",
      "_view_module_version": "1.5.0",
      "_view_name": "HBoxView",
      "box_style": "",
      "children": [
       "IPY_MODEL_e286e6fb0219454dbd825e9befda99cd",
       "IPY_MODEL_b5240d73df7747a1a74756c0e012bd5c",
       "IPY_MODEL_4291800ed9454f24a9f5d02f66267cc1"
      ],
      "layout": "IPY_MODEL_1732747a559e432cb6159a1da855fe19"
     }
    },
    "e286e6fb0219454dbd825e9befda99cd": {
     "model_module": "@jupyter-widgets/controls",
     "model_module_version": "1.5.0",
     "model_name": "HTMLModel",
     "state": {
      "_dom_classes": [],
      "_model_module": "@jupyter-widgets/controls",
      "_model_module_version": "1.5.0",
      "_model_name": "HTMLModel",
      "_view_count": null,
      "_view_module": "@jupyter-widgets/controls",
      "_view_module_version": "1.5.0",
      "_view_name": "HTMLView",
      "description": "",
      "description_tooltip": null,
      "layout": "IPY_MODEL_2feb47a487d6412eaff5ead16b83d3eb",
      "placeholder": "​",
      "style": "IPY_MODEL_b8641fd4cf214983a3250a8124a5d593",
      "value": "100%"
     }
    }
   }
  }
 },
 "nbformat": 4,
 "nbformat_minor": 1
}
