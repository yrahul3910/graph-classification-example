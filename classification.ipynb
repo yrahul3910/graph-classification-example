{
 "cells": [
  {
   "cell_type": "code",
   "execution_count": null,
   "metadata": {
    "colab": {
     "base_uri": "https://localhost:8080/"
    },
    "executionInfo": {
     "elapsed": 2004401,
     "status": "ok",
     "timestamp": 1707418488941,
     "user": {
      "displayName": "Sanjana Cheerla",
      "userId": "01165695743008657535"
     },
     "user_tz": 300
    },
    "id": "aMoBs-nSmNY1",
    "outputId": "a390b1c0-953f-4ffd-b89c-a8746ac64b3c"
   },
   "outputs": [
    {
     "name": "stdout",
     "output_type": "stream",
     "text": [
      "Mounted at /content/drive\n",
      "drive  sample_data\n",
      "/content\n",
      "done\n"
     ]
    }
   ],
   "source": [
    "from google.colab import drive\n",
    "drive.mount('/content/drive')\n",
    "!ls\n",
    "!pwd\n",
    "!cd /content/drive\n",
    "print('done')"
   ]
  },
  {
   "cell_type": "code",
   "execution_count": null,
   "metadata": {
    "id": "np6jrZj3nDMX"
   },
   "outputs": [],
   "source": [
    "import pandas as pd\n",
    "import pickle\n",
    "import numpy as np\n",
    "import networkx as nx\n",
    "from itertools import islice\n",
    "from sklearn.neural_network import MLPClassifier\n",
    "from sklearn.model_selection import train_test_split\n",
    "from imblearn.over_sampling import RandomOverSampler\n",
    "import xml.etree.ElementTree as ET\n",
    "import re"
   ]
  },
  {
   "cell_type": "code",
   "execution_count": null,
   "metadata": {
    "id": "6B72ucjvmQI-"
   },
   "outputs": [],
   "source": [
    "df = pd.read_csv(\"/content/drive/MyDrive/graphstuff/chem_gene_onehotencoded.csv\")\n",
    "G = nx.read_gexf(\"/content/drive/MyDrive/graphstuff/graph.gexf\")"
   ]
  },
  {
   "cell_type": "code",
   "execution_count": null,
   "metadata": {
    "colab": {
     "base_uri": "https://localhost:8080/"
    },
    "executionInfo": {
     "elapsed": 770,
     "status": "ok",
     "timestamp": 1707418497466,
     "user": {
      "displayName": "Sanjana Cheerla",
      "userId": "01165695743008657535"
     },
     "user_tz": 300
    },
    "id": "-8RZ8pq5n95b",
    "outputId": "03ec2f82-7cfb-460d-cbbc-f20a3623c0d0"
   },
   "outputs": [
    {
     "name": "stdout",
     "output_type": "stream",
     "text": [
      "C534883\n",
      "367.0\n",
      "4609.0\n",
      "C112297\n",
      "3784.0\n",
      "3785.0\n",
      "C039775\n",
      "1557.0\n",
      "C534422\n",
      "836.0\n",
      "\n",
      "\n",
      "23189\n",
      "\n",
      "\n"
     ]
    },
    {
     "data": {
      "text/plain": [
       "[[0],\n",
       " array([ 0.07876712, -0.05969036,  0.08527903,  0.01284475,  0.01780216,\n",
       "         0.01634571, -0.09160165,  0.16863525, -0.0280142 , -0.10524438,\n",
       "         0.0598112 , -0.06157446,  0.05455557, -0.02184562,  0.0820353 ,\n",
       "        -0.03676902,  0.09297118,  0.01067702, -0.13881788, -0.14166732,\n",
       "         0.0510341 , -0.12559067, -0.04321984, -0.00853302, -0.06097117,\n",
       "        -0.02221368, -0.0600847 , -0.22527489, -0.191195  , -0.04995764,\n",
       "         0.10439263, -0.13660212, -0.07961906,  0.05463179, -0.03425846,\n",
       "         0.23327908,  0.01161615,  0.01123109,  0.10467409,  0.0134046 ,\n",
       "         0.01144198,  0.04747581, -0.16887026, -0.22795793,  0.14039843,\n",
       "        -0.3147707 ,  0.03647125, -0.05182172,  0.02437897, -0.05491275,\n",
       "         0.13597223,  0.05589329,  0.24718064, -0.15595333, -0.17025773,\n",
       "        -0.13367224, -0.09391661, -0.25594395, -0.1517817 ,  0.14614582,\n",
       "        -0.13768502, -0.00587407, -0.2343698 ,  0.03581745], dtype=float32)]"
      ]
     },
     "execution_count": 4,
     "metadata": {},
     "output_type": "execute_result"
    }
   ],
   "source": [
    "file_path = '/content/drive/MyDrive/graphstuff/100000/sage_embeddings_mainmap.pkl' #maps chemical or gene ids to index and embedding array\n",
    "\n",
    "with open(file_path, 'rb') as file:\n",
    "    embeddings_mainmap = pickle.load(file)\n",
    "\n",
    "print('\\n'.join(islice(embeddings_mainmap, 10)))\n",
    "print('\\n')\n",
    "print(len(embeddings_mainmap))\n",
    "print('\\n')\n",
    "embeddings_mainmap['C534883']"
   ]
  },
  {
   "cell_type": "code",
   "execution_count": null,
   "metadata": {
    "colab": {
     "base_uri": "https://localhost:8080/"
    },
    "executionInfo": {
     "elapsed": 586,
     "status": "ok",
     "timestamp": 1707418498049,
     "user": {
      "displayName": "Sanjana Cheerla",
      "userId": "01165695743008657535"
     },
     "user_tz": 300
    },
    "id": "ME52OBvvtq3m",
    "outputId": "9df778f1-6d1c-406c-b515-880b0d2cf936"
   },
   "outputs": [
    {
     "name": "stdout",
     "output_type": "stream",
     "text": [
      "23189\n",
      "\n",
      "\n"
     ]
    },
    {
     "data": {
      "text/plain": [
       "[['C534883'],\n",
       " array([ 0.07876712, -0.05969036,  0.08527903,  0.01284475,  0.01780216,\n",
       "         0.01634571, -0.09160165,  0.16863525, -0.0280142 , -0.10524438,\n",
       "         0.0598112 , -0.06157446,  0.05455557, -0.02184562,  0.0820353 ,\n",
       "        -0.03676902,  0.09297118,  0.01067702, -0.13881788, -0.14166732,\n",
       "         0.0510341 , -0.12559067, -0.04321984, -0.00853302, -0.06097117,\n",
       "        -0.02221368, -0.0600847 , -0.22527489, -0.191195  , -0.04995764,\n",
       "         0.10439263, -0.13660212, -0.07961906,  0.05463179, -0.03425846,\n",
       "         0.23327908,  0.01161615,  0.01123109,  0.10467409,  0.0134046 ,\n",
       "         0.01144198,  0.04747581, -0.16887026, -0.22795793,  0.14039843,\n",
       "        -0.3147707 ,  0.03647125, -0.05182172,  0.02437897, -0.05491275,\n",
       "         0.13597223,  0.05589329,  0.24718064, -0.15595333, -0.17025773,\n",
       "        -0.13367224, -0.09391661, -0.25594395, -0.1517817 ,  0.14614582,\n",
       "        -0.13768502, -0.00587407, -0.2343698 ,  0.03581745], dtype=float32)]"
      ]
     },
     "execution_count": 5,
     "metadata": {},
     "output_type": "execute_result"
    }
   ],
   "source": [
    "file_path = '/content/drive/MyDrive/graphstuff/100000/sage_embeddings_reversemap.pkl' #maps index to chemical or gene ids and embedding array\n",
    "\n",
    "with open(file_path, 'rb') as file:\n",
    "    embeddings_reversemap = pickle.load(file)\n",
    "print(len(embeddings_reversemap))\n",
    "print('\\n')\n",
    "embeddings_reversemap[0]"
   ]
  },
  {
   "cell_type": "code",
   "execution_count": null,
   "metadata": {
    "colab": {
     "base_uri": "https://localhost:8080/"
    },
    "executionInfo": {
     "elapsed": 4563,
     "status": "ok",
     "timestamp": 1707418502609,
     "user": {
      "displayName": "Sanjana Cheerla",
      "userId": "01165695743008657535"
     },
     "user_tz": 300
    },
    "id": "9EvMeFPKwL89",
    "outputId": "b18a1489-1924-449f-c10c-6c0ae1947724"
   },
   "outputs": [
    {
     "name": "stdout",
     "output_type": "stream",
     "text": [
      "192647\n",
      "192647\n",
      "[[ 7.87671208e-02 -5.96903563e-02  8.52790326e-02  1.28447488e-02\n",
      "   1.78021640e-02  1.63457058e-02 -9.16016474e-02  1.68635249e-01\n",
      "  -2.80141979e-02 -1.05244376e-01  5.98112009e-02 -6.15744591e-02\n",
      "   5.45555726e-02 -2.18456164e-02  8.20352957e-02 -3.67690213e-02\n",
      "   9.29711759e-02  1.06770154e-02 -1.38817877e-01 -1.41667321e-01\n",
      "   5.10341041e-02 -1.25590667e-01 -4.32198383e-02 -8.53302144e-03\n",
      "  -6.09711707e-02 -2.22136788e-02 -6.00847006e-02 -2.25274891e-01\n",
      "  -1.91194996e-01 -4.99576405e-02  1.04392633e-01 -1.36602119e-01\n",
      "  -7.96190575e-02  5.46317883e-02 -3.42584550e-02  2.33279079e-01\n",
      "   1.16161462e-02  1.12310871e-02  1.04674086e-01  1.34046003e-02\n",
      "   1.14419796e-02  4.74758148e-02 -1.68870255e-01 -2.27957934e-01\n",
      "   1.40398428e-01 -3.14770699e-01  3.64712477e-02 -5.18217236e-02\n",
      "   2.43789740e-02 -5.49127497e-02  1.35972232e-01  5.58932945e-02\n",
      "   2.47180641e-01 -1.55953333e-01 -1.70257732e-01 -1.33672237e-01\n",
      "  -9.39166099e-02 -2.55943954e-01 -1.51781693e-01  1.46145821e-01\n",
      "  -1.37685016e-01 -5.87406754e-03 -2.34369799e-01  3.58174480e-02\n",
      "  -5.11708260e-01  6.54539764e-01  3.53897065e-01 -2.34088123e-01\n",
      "   2.81342328e-01  3.54320198e-01 -1.26313221e+00 -8.94252211e-02\n",
      "   9.78495121e-01 -1.67991847e-01 -4.34516519e-01 -9.20427024e-01\n",
      "  -1.59068257e-01  2.94690371e-01  1.37358248e-01  3.10502052e-01\n",
      "   9.07406032e-01  1.21890597e-01 -1.56763375e-01 -9.14633214e-01\n",
      "   3.92100632e-01 -1.94219381e-01 -2.70006806e-02  2.44345680e-01\n",
      "  -9.71058249e-01 -4.38151807e-01 -9.69471633e-02 -2.39565158e+00\n",
      "  -2.04211545e+00  8.13956022e-01  6.73867404e-01 -1.56687200e-03\n",
      "   8.66097510e-02  2.81188846e-01 -3.91952842e-01 -1.17455566e+00\n",
      "  -3.95249575e-01 -3.86667222e-01  4.12315875e-03  5.51255882e-01\n",
      "   4.48631227e-01  9.83968258e-01 -2.28437126e-01 -1.31487894e+00\n",
      "  -1.29847813e+00 -3.29059649e+00  4.64910194e-02 -7.37746060e-01\n",
      "   4.43420112e-01  1.74806222e-01 -5.29934049e-01  7.63055146e-01\n",
      "   5.76260649e-02 -7.75780201e-01 -3.60484123e-01  6.64305687e-03\n",
      "   5.17027497e-01 -1.25782323e+00 -6.48208082e-01  1.76606297e-01\n",
      "  -8.87692273e-01 -4.44973707e-01 -1.44655645e+00 -2.53436208e-01]]\n",
      "[[0. 0. 0. 0. 0. 0. 0. 1. 0. 0. 0. 0. 0. 0. 0. 0. 0. 0. 0. 0. 0. 0. 0. 0.\n",
      "  0.]]\n"
     ]
    }
   ],
   "source": [
    "X = np.load(\"/content/drive/MyDrive/graphstuff/100000/X.npy\") # embeddings\n",
    "y = np.load(\"/content/drive/MyDrive/graphstuff/100000/y.npy\") #\n",
    "\n",
    "print(len(X))\n",
    "print(len(y))\n",
    "print(X[:1])\n",
    "print(y[:1])"
   ]
  },
  {
   "cell_type": "code",
   "execution_count": null,
   "metadata": {
    "colab": {
     "base_uri": "https://localhost:8080/"
    },
    "executionInfo": {
     "elapsed": 1845034,
     "status": "ok",
     "timestamp": 1707422541460,
     "user": {
      "displayName": "Sanjana Cheerla",
      "userId": "01165695743008657535"
     },
     "user_tz": 300
    },
    "id": "graTWFJix3jg",
    "outputId": "57397f66-48eb-454f-8ae8-d3c8fa8b22c4"
   },
   "outputs": [
    {
     "data": {
      "text/plain": [
       "0.6566380133715377"
      ]
     },
     "execution_count": 9,
     "metadata": {},
     "output_type": "execute_result"
    }
   ],
   "source": [
    "\n",
    "\n",
    "random_seed = 42\n",
    "\n",
    "X_train, X_test, y_train, y_test = train_test_split(X, y, random_state=random_seed)\n",
    "\n",
    "clf = MLPClassifier(hidden_layer_sizes=[64, 32, 16], alpha=1e-3, batch_size=4, solver='adam', early_stopping=True, random_state=random_seed)\n",
    "clf.fit(X_train, y_train)\n",
    "clf.score(X_test, y_test)"
   ]
  },
  {
   "cell_type": "code",
   "execution_count": null,
   "metadata": {
    "colab": {
     "background_save": true
    },
    "id": "sEaFuK4RVCka",
    "outputId": "53e224b3-a51c-491e-915b-4178ad47538e"
   },
   "outputs": [
    {
     "name": "stdout",
     "output_type": "stream",
     "text": [
      "Accuracy: 0.09\n"
     ]
    }
   ],
   "source": [
    "\n",
    "\n",
    "random_seed = 42\n",
    "\n",
    "X_train, X_test, y_train, y_test = train_test_split(X, y, test_size=0.2, random_state=random_seed)\n",
    "\n",
    "ros = RandomOverSampler(sampling_strategy='all', random_state=random_seed)\n",
    "X_train_resampled, y_train_resampled = ros.fit_resample(X_train, y_train)\n",
    "\n",
    "# Create and train the MLPClassifier\n",
    "clf_resampled = MLPClassifier(hidden_layer_sizes=[64, 32, 16], alpha=1e-3, batch_size=4, solver='adam', early_stopping=True, random_state=random_seed)\n",
    "clf_resampled.fit(X_train_resampled, y_train_resampled)\n",
    "\n",
    "# Calculate and print the accuracy score on the test set\n",
    "accuracy = clf_resampled.score(X_test, y_test)\n",
    "print(\"Accuracy: {:.2f}\".format(accuracy))\n"
   ]
  },
  {
   "cell_type": "code",
   "execution_count": null,
   "metadata": {
    "id": "Jxb9besDdiCd"
   },
   "outputs": [],
   "source": [
    "#adjust weight of classifer"
   ]
  },
  {
   "cell_type": "code",
   "execution_count": null,
   "metadata": {
    "colab": {
     "base_uri": "https://localhost:8080/"
    },
    "executionInfo": {
     "elapsed": 7907,
     "status": "ok",
     "timestamp": 1707422606791,
     "user": {
      "displayName": "Sanjana Cheerla",
      "userId": "01165695743008657535"
     },
     "user_tz": 300
    },
    "id": "xSW0sF7uTypU",
    "outputId": "1e6451b6-2930-4923-c962-21f1fa95176b"
   },
   "outputs": [
    {
     "name": "stdout",
     "output_type": "stream",
     "text": [
      "Accuracy: 0.66\n",
      "Precision: 0.58\n",
      "Recall: 0.32\n",
      "F1 Score: 0.41\n"
     ]
    }
   ],
   "source": [
    "from sklearn.metrics import accuracy_score, precision_score, recall_score, f1_score\n",
    "\n",
    "y_pred = clf.predict(X_test)\n",
    "\n",
    "# Calculate metrics\n",
    "accuracy = accuracy_score(y_test, y_pred)\n",
    "precision = precision_score(y_test, y_pred, average='micro')\n",
    "recall = recall_score(y_test, y_pred, average='micro')\n",
    "f1 = f1_score(y_test, y_pred, average='micro')\n",
    "\n",
    "print(\"Accuracy: {:.2f}\".format(accuracy))\n",
    "print(\"Precision: {:.2f}\".format(precision))\n",
    "print(\"Recall: {:.2f}\".format(recall))\n",
    "print(\"F1 Score: {:.2f}\".format(f1))"
   ]
  },
  {
   "cell_type": "code",
   "execution_count": null,
   "metadata": {
    "id": "9uACv_wMVZiI"
   },
   "outputs": [],
   "source": [
    "y_pred = clf_resampled.predict(X_test)\n",
    "\n",
    "# Calculate metrics\n",
    "accuracy = accuracy_score(y_test, y_pred)\n",
    "precision = precision_score(y_test, y_pred, average='micro')\n",
    "recall = recall_score(y_test, y_pred, average='micro')\n",
    "f1 = f1_score(y_test, y_pred, average='micro')\n",
    "\n",
    "print(\"Accuracy: {:.2f}\".format(accuracy))\n",
    "print(\"Precision: {:.2f}\".format(precision))\n",
    "print(\"Recall: {:.2f}\".format(recall))\n",
    "print(\"F1 Score: {:.2f}\".format(f1))"
   ]
  },
  {
   "cell_type": "code",
   "execution_count": null,
   "metadata": {
    "colab": {
     "base_uri": "https://localhost:8080/"
    },
    "executionInfo": {
     "elapsed": 500,
     "status": "ok",
     "timestamp": 1707422541958,
     "user": {
      "displayName": "Sanjana Cheerla",
      "userId": "01165695743008657535"
     },
     "user_tz": 300
    },
    "id": "qRI6IZu1NE4J",
    "outputId": "e980d693-4d1b-4ff9-8d6f-d8cc63de8ca5"
   },
   "outputs": [
    {
     "name": "stdout",
     "output_type": "stream",
     "text": [
      "Sentence 9:                 OA-related pathways were found in the KEGG and GO analysis, such as TGF-beta\n",
      "                signaling pathway, MAPK signaling pathway, hyaluronan metabolic process, and\n",
      "                chondrocyte differentiation.\n",
      "Chemical ID: MESH:D006820\n",
      "Gene ID: 7040\n",
      "\n",
      "Sentence 5: Studies\n",
      "                have shown that the MLXIP gene is involved in various biological processes,\n",
      "                including glucose metabolism, lipid metabolism, and cellular senescence, which have\n",
      "                also been implicated in the pathogenesis of osteoarthritis.\n",
      "Chemical ID: MESH:D008055\n",
      "Chemical ID: MESH:D005947\n",
      "Gene ID: 22877\n",
      "\n",
      "Sentence 5: For instance, bisphenol\n",
      "                A was detected not only in the serum of the OA patients, but also in the synovial\n",
      "                fluid of knee replacement patients, and exhibited a concentration-dependent\n",
      "                antagonistic effect on the protective actions of E2 on chondrocyte, which decreased\n",
      "                the NF-kappaB activation and MMP1 expression.\n",
      "Chemical ID: MESH:D004958\n",
      "Gene ID: 4312\n",
      "Gene ID: 4790\n",
      "\n",
      "Sentence 6: In addition, the exposure of cadmium\n",
      "                chloride could reduce the chondrocyte cell viability, increase the expression of the\n",
      "                catabolic markers (MMP13, MMP9, MMP3, MMP1) and inflammatory markers (IL-1beta and\n",
      "                IL-6), and activate the expression of the cartilage extracellular matrix genes\n",
      "                (aggrecan and collagen II), and the cadmium contributed the cartilage loss by\n",
      "                activating the interleukins through the reactive oxygen species.\n",
      "Chemical ID: MESH:D002104\n",
      "Chemical ID: MESH:D017382\n",
      "Gene ID: 3553\n",
      "Gene ID: 4312\n",
      "Gene ID: 4322\n",
      "Gene ID: 4318\n",
      "Gene ID: 3569\n",
      "Gene ID: 4314\n",
      "Gene ID: 176\n",
      "\n"
     ]
    }
   ],
   "source": [
    "\n",
    "\n",
    "# Specify the path to your XML file\n",
    "xml_file_path = \"/content/drive/MyDrive/graphstuff/test_PMC10518935.xml\"\n",
    "\n",
    "# Read the XML content from the file\n",
    "with open(xml_file_path, \"r\", encoding=\"utf-8\") as file:\n",
    "    xml_text = file.read()\n",
    "\n",
    "root = ET.fromstring(xml_text)\n",
    "\n",
    "# Iterate through passages\n",
    "for passage in root.findall(\".//passage\"):\n",
    "    passage_text = passage.find(\".//text\").text\n",
    "\n",
    "    # Extract annotations from the passage\n",
    "    annotations = passage.findall(\".//annotation\")\n",
    "\n",
    "    # Create sets to store chemicals and genes\n",
    "    chemicals_set = set()\n",
    "    genes_set = set()\n",
    "\n",
    "    # Iterate through annotations in the passage\n",
    "    for annotation in annotations:\n",
    "        annotation_type = annotation.find(\".//infon[@key='type']\").text\n",
    "        annotation_id_element = annotation.find(\".//infon[@key='identifier']\")\n",
    "        annotation_id = annotation_id_element.text if annotation_id_element is not None else None\n",
    "        annotation_text = annotation.find(\".//text\").text\n",
    "\n",
    "        # Check if the annotation is a Chemical or Gene and add it to the respective set\n",
    "        if annotation_type == 'Chemical':\n",
    "            chemicals_set.add((annotation_text, annotation_id))\n",
    "        elif annotation_type == 'Gene':\n",
    "            genes_set.add((annotation_text, annotation_id))\n",
    "\n",
    "    # Split the passage into sentences\n",
    "    sentences = re.split(r'(?<!\\w\\.\\w.)(?<![A-Z][a-z]\\.)(?<=\\.|\\?)\\s', passage_text)\n",
    "\n",
    "    filtered_sentences = []\n",
    "    # Filter sentences that contain both chemicals and genes\n",
    "    for idx, sentence in enumerate(sentences, start=1):\n",
    "        contains_chemicals = any(chem in sentence for chem, _ in chemicals_set)\n",
    "        contains_genes = any(gene in sentence for gene, _ in genes_set)\n",
    "\n",
    "        if contains_chemicals and contains_genes:\n",
    "            filtered_sentences.append(sentence)\n",
    "            print(f\"Sentence {idx}: {sentence}\")\n",
    "            for chem, chem_id in chemicals_set:\n",
    "                if chem in sentence:\n",
    "                    print(f\"Chemical ID: {chem_id}\")\n",
    "            for gene, gene_id in genes_set:\n",
    "                if gene in sentence:\n",
    "                    print(f\"Gene ID: {gene_id}\")\n",
    "            print()\n",
    "\n",
    "    #Split filtered sentences by using the word and?"
   ]
  },
  {
   "cell_type": "code",
   "execution_count": null,
   "metadata": {
    "id": "VevgywBnPnzJ"
   },
   "outputs": [],
   "source": []
  },
  {
   "cell_type": "code",
   "execution_count": null,
   "metadata": {
    "id": "_LeZtJBfuzs2"
   },
   "outputs": [],
   "source": [
    "# parameter_space = {\n",
    "#     'hidden_layer_sizes': [(50,50,50), (50,100,50), (100,)],\n",
    "#     'activation': ['tanh', 'relu'],\n",
    "#     'solver': ['sgd', 'adam'],\n",
    "#     'alpha': [0.0001, 0.05],\n",
    "#     'learning_rate': ['constant','adaptive'],\n",
    "# }\n",
    "\n",
    "# from sklearn.model_selection import GridSearchCV\n",
    "\n",
    "# mlp = MLPClassifier(max_iter=100)\n",
    "\n",
    "# clf = GridSearchCV(mlp, parameter_space, n_jobs=-1, cv=3)\n",
    "# clf.fit(X_train, y_train)"
   ]
  },
  {
   "cell_type": "code",
   "execution_count": null,
   "metadata": {
    "id": "qOM_ObTuvMs5"
   },
   "outputs": [],
   "source": [
    "# # Best paramete set\n",
    "# print('Best parameters found:\\n', clf.best_params_)\n",
    "\n",
    "# # All results\n",
    "# means = clf.cv_results_['mean_test_score']\n",
    "# stds = clf.cv_results_['std_test_score']\n",
    "# for mean, std, params in zip(means, stds, clf.cv_results_['params']):\n",
    "#     print(\"%0.3f (+/-%0.03f) for %r\" % (mean, std * 2, params))"
   ]
  },
  {
   "cell_type": "code",
   "execution_count": null,
   "metadata": {
    "id": "XstjTCkFwhCw"
   },
   "outputs": [],
   "source": [
    "# search map for gene and chemicals\n"
   ]
  }
 ],
 "metadata": {
  "colab": {
   "provenance": []
  },
  "kernelspec": {
   "display_name": "Python 3 (ipykernel)",
   "language": "python",
   "name": "python3"
  },
  "language_info": {
   "codemirror_mode": {
    "name": "ipython",
    "version": 3
   },
   "file_extension": ".py",
   "mimetype": "text/x-python",
   "name": "python",
   "nbconvert_exporter": "python",
   "pygments_lexer": "ipython3",
   "version": "3.10.13"
  }
 },
 "nbformat": 4,
 "nbformat_minor": 1
}
